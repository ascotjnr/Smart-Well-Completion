{
 "cells": [
  {
   "cell_type": "code",
   "execution_count": null,
   "metadata": {},
   "outputs": [],
   "source": [
    "#conda install -c conda-forge lightgbm"
   ]
  },
  {
   "cell_type": "code",
   "execution_count": null,
   "metadata": {},
   "outputs": [],
   "source": [
    "%%capture\n",
    "import time\n",
    "! pip install seaborn\n",
    "import matplotlib as plot \n",
    "import matplotlib.pyplot as plt\n",
    "import numpy as np \n",
    "import pandas as pd\n",
    "import sklearn\n",
    "import seaborn as sns\n",
    "from matplotlib import pyplot\n",
    "\n",
    "# Hide Warnings\n",
    "import warnings\n",
    "warnings.filterwarnings(\"ignore\")\n",
    "\n",
    "%config InlineBackend.figure_format='svg' # To create high resolution images\n",
    "%matplotlib inline"
   ]
  },
  {
   "cell_type": "code",
   "execution_count": null,
   "metadata": {},
   "outputs": [],
   "source": [
    "df = pd.read_csv(r\"H:\\Desktop\\Publications\\Research\\Smart well injection\\Trial_1.csv\")\n",
    "df.head()"
   ]
  },
  {
   "cell_type": "code",
   "execution_count": null,
   "metadata": {},
   "outputs": [],
   "source": [
    "df.dtypes"
   ]
  },
  {
   "cell_type": "markdown",
   "metadata": {},
   "source": [
    "## Evaluating for Missing Data\n",
    "To proceed, missing data needs to be accounted for and the necessary cleaning process (remove or replace) applied."
   ]
  },
  {
   "cell_type": "code",
   "execution_count": null,
   "metadata": {},
   "outputs": [],
   "source": [
    "# Count missing data if present\n",
    "missing_df = df.isnull()\n",
    "for column in missing_df.columns.values.tolist():\n",
    "    print(column)\n",
    "    print (missing_df[column].value_counts())\n",
    "    print(\"\")"
   ]
  },
  {
   "cell_type": "markdown",
   "metadata": {},
   "source": [
    "## Descriptive Statistical Analysis\n",
    "Analyse the variables by utilizing a description method.\n",
    "\n",
    "The describe function automatically computes basic statistics for all continuous variables.\n",
    "\n",
    "This will show:\n",
    "\n",
    "- the count of that variable\n",
    "- the mean\n",
    "- the standard deviation (std)\n",
    "- the minimum value\n",
    "- the IQR (Interquartile Range: 25%, 50% and 75%)\n",
    "- the maximum value"
   ]
  },
  {
   "cell_type": "code",
   "execution_count": null,
   "metadata": {},
   "outputs": [],
   "source": [
    "df.set_index(['Date'], inplace = True)"
   ]
  },
  {
   "cell_type": "code",
   "execution_count": null,
   "metadata": {
    "scrolled": true
   },
   "outputs": [],
   "source": [
    "df.describe()"
   ]
  },
  {
   "cell_type": "markdown",
   "metadata": {},
   "source": [
    "## Build Models With all Features"
   ]
  },
  {
   "cell_type": "code",
   "execution_count": null,
   "metadata": {},
   "outputs": [],
   "source": [
    "from sklearn.ensemble import GradientBoostingRegressor\n",
    "from sklearn.model_selection import train_test_split\n",
    "from sklearn import metrics\n",
    "\n",
    "# Let's select appropriate variables as some logs are redundant or similar.\n",
    "X = df.drop([\"Norm_Uzonal_Rate\", \"Norm_Mzonal_Rate\", \"Norm_Lzonal_Rate\"], axis=1) #Feature Matrix\n",
    "y = df[[\"Norm_Uzonal_Rate\", \"Norm_Mzonal_Rate\", \"Norm_Lzonal_Rate\"]]\n",
    "X_train, X_test, y_train, y_test = train_test_split(X,y, test_size = 0.10, random_state = 0)"
   ]
  },
  {
   "cell_type": "code",
   "execution_count": null,
   "metadata": {},
   "outputs": [],
   "source": [
    "Actual = pd.DataFrame(y_test).to_csv('Actual.csv') "
   ]
  },
  {
   "cell_type": "markdown",
   "metadata": {},
   "source": [
    "## Cross-Validation"
   ]
  },
  {
   "cell_type": "code",
   "execution_count": null,
   "metadata": {},
   "outputs": [],
   "source": [
    "from sklearn.model_selection import train_test_split\n",
    "from sklearn import metrics\n",
    "\n",
    "# split data for training and prediction\n",
    "train, test = train_test_split(df, test_size=0.10, random_state=0)\n",
    "print('Train', train.shape, 'Test', test.shape)"
   ]
  },
  {
   "cell_type": "code",
   "execution_count": null,
   "metadata": {},
   "outputs": [],
   "source": [
    "DL_Train = pd.DataFrame(train)"
   ]
  },
  {
   "cell_type": "code",
   "execution_count": null,
   "metadata": {},
   "outputs": [],
   "source": [
    "DL_Test = pd.DataFrame(test)"
   ]
  },
  {
   "cell_type": "code",
   "execution_count": null,
   "metadata": {},
   "outputs": [],
   "source": [
    "DL_Train.to_csv('WI_Train.csv')"
   ]
  },
  {
   "cell_type": "code",
   "execution_count": null,
   "metadata": {},
   "outputs": [],
   "source": [
    "DL_Test.to_csv('WI_Test.csv')"
   ]
  },
  {
   "cell_type": "code",
   "execution_count": null,
   "metadata": {},
   "outputs": [],
   "source": [
    "X_train = DL_Train.drop([\"Norm_Uzonal_Rate\", \"Norm_Mzonal_Rate\", \"Norm_Lzonal_Rate\"], axis=1) #Feature Matrix\n",
    "y_train = DL_Train[[\"Norm_Uzonal_Rate\", \"Norm_Mzonal_Rate\", \"Norm_Lzonal_Rate\"]]"
   ]
  },
  {
   "cell_type": "code",
   "execution_count": null,
   "metadata": {},
   "outputs": [],
   "source": [
    "X_test = DL_Test.drop([\"Norm_Uzonal_Rate\", \"Norm_Mzonal_Rate\", \"Norm_Lzonal_Rate\"], axis=1) #Feature Matrix\n",
    "y_test = DL_Test[[\"Norm_Uzonal_Rate\", \"Norm_Mzonal_Rate\", \"Norm_Lzonal_Rate\"]]"
   ]
  },
  {
   "cell_type": "code",
   "execution_count": null,
   "metadata": {},
   "outputs": [],
   "source": [
    "# Matrix of crossplots to visualize the variation between the parameters in the data set.\n",
    "\n",
    "\n",
    "fig1=sns.pairplot(df, diag_kind='kde', hue='WI_Rate', plot_kws= {'alpha': 0.6, 's': 30, 'edgecolor': 'k'})\n",
    "\n",
    "# save the heatmap as a file\n",
    "fig1.savefig(\"Pairplot.jpg\",\n",
    "            format='jpeg',\n",
    "            dpi=100,\n",
    "            bbox_inches='tight')"
   ]
  },
  {
   "cell_type": "code",
   "execution_count": null,
   "metadata": {},
   "outputs": [],
   "source": [
    "import seaborn as sns\n",
    "from mpl_toolkits.mplot3d import Axes3D\n",
    "\n",
    "sns.set(style = \"darkgrid\")\n",
    "\n",
    "fig = plt.figure()\n",
    "ax = fig.add_subplot(111, projection = '3d')\n",
    "\n",
    "x = df['Norm_Uzonal_Rate']\n",
    "y = df['Norm_Mzonal_Rate']\n",
    "z = df['Norm_Lzonal_Rate']\n",
    "\n",
    "ax.set_xlabel(\"Upper Zonal Rate\")\n",
    "ax.set_ylabel(\"Middle Zonal rate\")\n",
    "ax.set_zlabel(\"Lower Zonal Rate\")\n",
    "\n",
    "ax.scatter(x, y, z)\n",
    "\n",
    "plt.show()"
   ]
  },
  {
   "cell_type": "markdown",
   "metadata": {},
   "source": [
    "## Correlation\n",
    "**Correlation**: a measure of the extent of interdependence between variables.\n",
    "\n",
    "It is important to know the difference between these two and that correlation does not imply causation.\n",
    "\n",
    "The resulting coefficient is a value between -1 and 1 inclusive, where:\n",
    "\n",
    "- **1**: Total positive linear correlation.\n",
    "- **0**: No linear correlation, the two variables most likely do not affect each other.\n",
    "- **-1**: Total negative linear correlation."
   ]
  },
  {
   "cell_type": "markdown",
   "metadata": {},
   "source": [
    "# Create Heatmap to assess the relationships between the input variables and targets"
   ]
  },
  {
   "cell_type": "code",
   "execution_count": null,
   "metadata": {},
   "outputs": [],
   "source": [
    "#Using Pearson Correlation\n",
    "cor = df.corr(method='pearson')\n",
    "fig, ax = plt.subplots(figsize=(20,15))\n",
    "corrmap = sns.heatmap(cor, fmt='.3f', annot=True, cmap=\"YlGnBu\", linewidths=.5, ax=ax, cbar=True)\n",
    "\n",
    "#Set all sides\n",
    "corrmap.tick_params(right=False, top=False, labelright=False, labeltop=False, rotation=90)\n",
    "\n",
    "# save the heatmap as a file\n",
    "fig.savefig('Pearson Correlation.jpg',\n",
    "            format='jpeg',\n",
    "            dpi=100,\n",
    "            bbox_inches='tight')"
   ]
  }
 ],
 "metadata": {
  "kernelspec": {
   "display_name": "Python 3 (ipykernel)",
   "language": "python",
   "name": "python3"
  },
  "language_info": {
   "codemirror_mode": {
    "name": "ipython",
    "version": 3
   },
   "file_extension": ".py",
   "mimetype": "text/x-python",
   "name": "python",
   "nbconvert_exporter": "python",
   "pygments_lexer": "ipython3",
   "version": "3.10.8"
  }
 },
 "nbformat": 4,
 "nbformat_minor": 4
}
